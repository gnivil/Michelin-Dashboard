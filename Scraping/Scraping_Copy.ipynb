{
 "cells": [
  {
   "cell_type": "code",
   "execution_count": 1,
   "id": "6992c4f5",
   "metadata": {},
   "outputs": [],
   "source": [
    "# Import BeautifulSoup\n",
    "from bs4 import BeautifulSoup\n",
    "from webdriver_manager.chrome import ChromeDriverManager\n",
    "from splinter import Browser\n",
    "import pandas as pd"
   ]
  },
  {
   "cell_type": "code",
   "execution_count": 2,
   "id": "e0486f17",
   "metadata": {},
   "outputs": [
    {
     "name": "stderr",
     "output_type": "stream",
     "text": [
      "\n",
      "\n",
      "====== WebDriver manager ======\n",
      "Current google-chrome version is 95.0.4638\n",
      "Get LATEST driver version for 95.0.4638\n",
      "There is no [win32] chromedriver for browser 95.0.4638 in cache\n",
      "Get LATEST driver version for 95.0.4638\n",
      "Trying to download new driver from https://chromedriver.storage.googleapis.com/95.0.4638.17/chromedriver_win32.zip\n",
      "Driver has been saved in cache [C:\\Users\\bgood\\.wdm\\drivers\\chromedriver\\win32\\95.0.4638.17]\n"
     ]
    }
   ],
   "source": [
    "# Import Splinter and set the chromedriver path\n",
    "\n",
    "# Setup splinter\n",
    "executable_path = {'executable_path': ChromeDriverManager().install()}\n",
    "browser = Browser('chrome', **executable_path, headless=False)"
   ]
  },
  {
   "cell_type": "code",
   "execution_count": 3,
   "id": "33a79091",
   "metadata": {},
   "outputs": [],
   "source": [
    "# Visit the following URL\n",
    "url = \"https://guide.michelin.com/en/restaurants/1-star-michelin\"\n",
    "browser.visit(url)"
   ]
  },
  {
   "cell_type": "code",
   "execution_count": 64,
   "id": "0506ec82",
   "metadata": {},
   "outputs": [],
   "source": [
    "#Determine a script to find the last page number for 1 star restaurants to use in order to scrape each website\n",
    "url = \"https://guide.michelin.com/en/restaurants/1-star-michelin\"\n",
    "browser.visit(url)\n",
    "html = browser.html\n",
    "soup = BeautifulSoup(html, 'html.parser')\n",
    "pages = soup.find('ul', class_='pagination')\n",
    "last_page_number = int(pages.find_all('li')[-2].text)"
   ]
  },
  {
   "cell_type": "code",
   "execution_count": 69,
   "id": "6f847ba1",
   "metadata": {},
   "outputs": [
    {
     "data": {
      "text/plain": [
       "128"
      ]
     },
     "execution_count": 69,
     "metadata": {},
     "output_type": "execute_result"
    }
   ],
   "source": [
    "last_page_number"
   ]
  },
  {
   "cell_type": "code",
   "execution_count": 108,
   "id": "c7dc4df0",
   "metadata": {},
   "outputs": [
    {
     "data": {
      "text/plain": [
       "{'michilen1': [1, 2, 3, 4], 'michel2': [1, 2, 3, 4], 'michlen3': [1, 2, 3, 4]}"
      ]
     },
     "execution_count": 108,
     "metadata": {},
     "output_type": "execute_result"
    }
   ],
   "source": [
    "#Hashing Example\n",
    "mi = {}\n",
    "\n",
    "for star in ['michilen1', 'michel2', 'michlen3']:\n",
    "    for x in range(1,5):\n",
    "        if x == 1:\n",
    "            mi[str(star)] = [x]\n",
    "        else:\n",
    "            mi[str(star)].append(x)\n",
    "mi"
   ]
  },
  {
   "cell_type": "code",
   "execution_count": 79,
   "id": "385de573",
   "metadata": {},
   "outputs": [
    {
     "name": "stdout",
     "output_type": "stream",
     "text": [
      "0 list\n",
      "1 python\n",
      "2 class\n"
     ]
    }
   ],
   "source": [
    "#enumerate example\n",
    "for i, x in enumerate(['list', 'python', 'class']):\n",
    "    print(i, x)"
   ]
  },
  {
   "cell_type": "code",
   "execution_count": 84,
   "id": "ddce930a",
   "metadata": {},
   "outputs": [
    {
     "name": "stdout",
     "output_type": "stream",
     "text": [
      "https://guide.michelin.com/en/restaurants/1-star-michelin/\n",
      "https://guide.michelin.com/en/restaurants/1-star-michelin/page/1\n",
      "https://guide.michelin.com/en/restaurants/1-star-michelin/page/2\n",
      "https://guide.michelin.com/en/restaurants/1-star-michelin/page/3\n",
      "https://guide.michelin.com/en/restaurants/1-star-michelin/page/4\n",
      "https://guide.michelin.com/en/restaurants/1-star-michelin/page/5\n",
      "https://guide.michelin.com/en/restaurants/1-star-michelin/page/6\n",
      "https://guide.michelin.com/en/restaurants/1-star-michelin/page/7\n",
      "https://guide.michelin.com/en/restaurants/1-star-michelin/page/8\n",
      "https://guide.michelin.com/en/restaurants/1-star-michelin/page/9\n",
      "https://guide.michelin.com/en/restaurants/1-star-michelin/page/10\n",
      "https://guide.michelin.com/en/restaurants/1-star-michelin/page/11\n",
      "https://guide.michelin.com/en/restaurants/1-star-michelin/page/12\n",
      "https://guide.michelin.com/en/restaurants/1-star-michelin/page/13\n",
      "https://guide.michelin.com/en/restaurants/1-star-michelin/page/14\n",
      "https://guide.michelin.com/en/restaurants/1-star-michelin/page/15\n",
      "https://guide.michelin.com/en/restaurants/1-star-michelin/page/16\n",
      "https://guide.michelin.com/en/restaurants/1-star-michelin/page/17\n",
      "https://guide.michelin.com/en/restaurants/1-star-michelin/page/18\n",
      "https://guide.michelin.com/en/restaurants/1-star-michelin/page/19\n",
      "https://guide.michelin.com/en/restaurants/1-star-michelin/page/20\n",
      "https://guide.michelin.com/en/restaurants/1-star-michelin/page/21\n",
      "https://guide.michelin.com/en/restaurants/1-star-michelin/page/22\n",
      "https://guide.michelin.com/en/restaurants/1-star-michelin/page/23\n",
      "https://guide.michelin.com/en/restaurants/1-star-michelin/page/24\n",
      "https://guide.michelin.com/en/restaurants/1-star-michelin/page/25\n",
      "https://guide.michelin.com/en/restaurants/1-star-michelin/page/26\n",
      "https://guide.michelin.com/en/restaurants/1-star-michelin/page/27\n",
      "https://guide.michelin.com/en/restaurants/1-star-michelin/page/28\n",
      "https://guide.michelin.com/en/restaurants/1-star-michelin/page/29\n",
      "https://guide.michelin.com/en/restaurants/1-star-michelin/page/30\n",
      "https://guide.michelin.com/en/restaurants/1-star-michelin/page/31\n",
      "https://guide.michelin.com/en/restaurants/1-star-michelin/page/32\n",
      "https://guide.michelin.com/en/restaurants/1-star-michelin/page/33\n",
      "https://guide.michelin.com/en/restaurants/1-star-michelin/page/34\n",
      "https://guide.michelin.com/en/restaurants/1-star-michelin/page/35\n",
      "https://guide.michelin.com/en/restaurants/1-star-michelin/page/36\n",
      "https://guide.michelin.com/en/restaurants/1-star-michelin/page/37\n",
      "https://guide.michelin.com/en/restaurants/1-star-michelin/page/38\n",
      "https://guide.michelin.com/en/restaurants/1-star-michelin/page/39\n",
      "https://guide.michelin.com/en/restaurants/1-star-michelin/page/40\n",
      "https://guide.michelin.com/en/restaurants/1-star-michelin/page/41\n",
      "https://guide.michelin.com/en/restaurants/1-star-michelin/page/42\n",
      "https://guide.michelin.com/en/restaurants/1-star-michelin/page/43\n",
      "https://guide.michelin.com/en/restaurants/1-star-michelin/page/44\n",
      "https://guide.michelin.com/en/restaurants/1-star-michelin/page/45\n",
      "https://guide.michelin.com/en/restaurants/1-star-michelin/page/46\n",
      "https://guide.michelin.com/en/restaurants/1-star-michelin/page/47\n",
      "https://guide.michelin.com/en/restaurants/1-star-michelin/page/48\n",
      "https://guide.michelin.com/en/restaurants/1-star-michelin/page/49\n",
      "https://guide.michelin.com/en/restaurants/1-star-michelin/page/50\n",
      "https://guide.michelin.com/en/restaurants/1-star-michelin/page/51\n",
      "https://guide.michelin.com/en/restaurants/1-star-michelin/page/52\n",
      "https://guide.michelin.com/en/restaurants/1-star-michelin/page/53\n",
      "https://guide.michelin.com/en/restaurants/1-star-michelin/page/54\n",
      "https://guide.michelin.com/en/restaurants/1-star-michelin/page/55\n",
      "https://guide.michelin.com/en/restaurants/1-star-michelin/page/56\n",
      "https://guide.michelin.com/en/restaurants/1-star-michelin/page/57\n",
      "https://guide.michelin.com/en/restaurants/1-star-michelin/page/58\n",
      "https://guide.michelin.com/en/restaurants/1-star-michelin/page/59\n",
      "https://guide.michelin.com/en/restaurants/1-star-michelin/page/60\n",
      "https://guide.michelin.com/en/restaurants/1-star-michelin/page/61\n",
      "https://guide.michelin.com/en/restaurants/1-star-michelin/page/62\n",
      "https://guide.michelin.com/en/restaurants/1-star-michelin/page/63\n",
      "https://guide.michelin.com/en/restaurants/1-star-michelin/page/64\n",
      "https://guide.michelin.com/en/restaurants/1-star-michelin/page/65\n",
      "https://guide.michelin.com/en/restaurants/1-star-michelin/page/66\n",
      "https://guide.michelin.com/en/restaurants/1-star-michelin/page/67\n",
      "https://guide.michelin.com/en/restaurants/1-star-michelin/page/68\n",
      "https://guide.michelin.com/en/restaurants/1-star-michelin/page/69\n",
      "https://guide.michelin.com/en/restaurants/1-star-michelin/page/70\n",
      "https://guide.michelin.com/en/restaurants/1-star-michelin/page/71\n",
      "https://guide.michelin.com/en/restaurants/1-star-michelin/page/72\n",
      "https://guide.michelin.com/en/restaurants/1-star-michelin/page/73\n",
      "https://guide.michelin.com/en/restaurants/1-star-michelin/page/74\n",
      "https://guide.michelin.com/en/restaurants/1-star-michelin/page/75\n",
      "https://guide.michelin.com/en/restaurants/1-star-michelin/page/76\n",
      "https://guide.michelin.com/en/restaurants/1-star-michelin/page/77\n",
      "https://guide.michelin.com/en/restaurants/1-star-michelin/page/78\n",
      "https://guide.michelin.com/en/restaurants/1-star-michelin/page/79\n",
      "https://guide.michelin.com/en/restaurants/1-star-michelin/page/80\n",
      "https://guide.michelin.com/en/restaurants/1-star-michelin/page/81\n",
      "https://guide.michelin.com/en/restaurants/1-star-michelin/page/82\n",
      "https://guide.michelin.com/en/restaurants/1-star-michelin/page/83\n",
      "https://guide.michelin.com/en/restaurants/1-star-michelin/page/84\n",
      "https://guide.michelin.com/en/restaurants/1-star-michelin/page/85\n",
      "https://guide.michelin.com/en/restaurants/1-star-michelin/page/86\n",
      "https://guide.michelin.com/en/restaurants/1-star-michelin/page/87\n",
      "https://guide.michelin.com/en/restaurants/1-star-michelin/page/88\n",
      "https://guide.michelin.com/en/restaurants/1-star-michelin/page/89\n",
      "https://guide.michelin.com/en/restaurants/1-star-michelin/page/90\n",
      "https://guide.michelin.com/en/restaurants/1-star-michelin/page/91\n",
      "https://guide.michelin.com/en/restaurants/1-star-michelin/page/92\n",
      "https://guide.michelin.com/en/restaurants/1-star-michelin/page/93\n",
      "https://guide.michelin.com/en/restaurants/1-star-michelin/page/94\n",
      "https://guide.michelin.com/en/restaurants/1-star-michelin/page/95\n",
      "https://guide.michelin.com/en/restaurants/1-star-michelin/page/96\n",
      "https://guide.michelin.com/en/restaurants/1-star-michelin/page/97\n",
      "https://guide.michelin.com/en/restaurants/1-star-michelin/page/98\n",
      "https://guide.michelin.com/en/restaurants/1-star-michelin/page/99\n",
      "https://guide.michelin.com/en/restaurants/1-star-michelin/page/100\n",
      "https://guide.michelin.com/en/restaurants/1-star-michelin/page/101\n",
      "https://guide.michelin.com/en/restaurants/1-star-michelin/page/102\n",
      "https://guide.michelin.com/en/restaurants/1-star-michelin/page/103\n",
      "https://guide.michelin.com/en/restaurants/1-star-michelin/page/104\n",
      "https://guide.michelin.com/en/restaurants/1-star-michelin/page/105\n",
      "https://guide.michelin.com/en/restaurants/1-star-michelin/page/106\n",
      "https://guide.michelin.com/en/restaurants/1-star-michelin/page/107\n",
      "https://guide.michelin.com/en/restaurants/1-star-michelin/page/108\n",
      "https://guide.michelin.com/en/restaurants/1-star-michelin/page/109\n",
      "https://guide.michelin.com/en/restaurants/1-star-michelin/page/110\n",
      "https://guide.michelin.com/en/restaurants/1-star-michelin/page/111\n",
      "https://guide.michelin.com/en/restaurants/1-star-michelin/page/112\n",
      "https://guide.michelin.com/en/restaurants/1-star-michelin/page/113\n",
      "https://guide.michelin.com/en/restaurants/1-star-michelin/page/114\n",
      "https://guide.michelin.com/en/restaurants/1-star-michelin/page/115\n",
      "https://guide.michelin.com/en/restaurants/1-star-michelin/page/116\n",
      "https://guide.michelin.com/en/restaurants/1-star-michelin/page/117\n",
      "https://guide.michelin.com/en/restaurants/1-star-michelin/page/118\n",
      "https://guide.michelin.com/en/restaurants/1-star-michelin/page/119\n",
      "https://guide.michelin.com/en/restaurants/1-star-michelin/page/120\n",
      "https://guide.michelin.com/en/restaurants/1-star-michelin/page/121\n",
      "https://guide.michelin.com/en/restaurants/1-star-michelin/page/122\n",
      "https://guide.michelin.com/en/restaurants/1-star-michelin/page/123\n",
      "https://guide.michelin.com/en/restaurants/1-star-michelin/page/124\n"
     ]
    },
    {
     "name": "stdout",
     "output_type": "stream",
     "text": [
      "https://guide.michelin.com/en/restaurants/1-star-michelin/page/125\n",
      "https://guide.michelin.com/en/restaurants/1-star-michelin/page/126\n",
      "https://guide.michelin.com/en/restaurants/1-star-michelin/page/127\n",
      "https://guide.michelin.com/en/restaurants/1-star-michelin/page/128\n",
      "https://guide.michelin.com/en/restaurants/2-stars-michelin/\n",
      "https://guide.michelin.com/en/restaurants/2-stars-michelin/page/1\n",
      "https://guide.michelin.com/en/restaurants/2-stars-michelin/page/2\n",
      "https://guide.michelin.com/en/restaurants/2-stars-michelin/page/3\n",
      "https://guide.michelin.com/en/restaurants/2-stars-michelin/page/4\n",
      "https://guide.michelin.com/en/restaurants/2-stars-michelin/page/5\n",
      "https://guide.michelin.com/en/restaurants/2-stars-michelin/page/6\n",
      "https://guide.michelin.com/en/restaurants/2-stars-michelin/page/7\n",
      "https://guide.michelin.com/en/restaurants/2-stars-michelin/page/8\n",
      "https://guide.michelin.com/en/restaurants/2-stars-michelin/page/9\n",
      "https://guide.michelin.com/en/restaurants/2-stars-michelin/page/10\n",
      "https://guide.michelin.com/en/restaurants/2-stars-michelin/page/11\n",
      "https://guide.michelin.com/en/restaurants/2-stars-michelin/page/12\n",
      "https://guide.michelin.com/en/restaurants/2-stars-michelin/page/13\n",
      "https://guide.michelin.com/en/restaurants/2-stars-michelin/page/14\n",
      "https://guide.michelin.com/en/restaurants/2-stars-michelin/page/15\n",
      "https://guide.michelin.com/en/restaurants/2-stars-michelin/page/16\n",
      "https://guide.michelin.com/en/restaurants/2-stars-michelin/page/17\n",
      "https://guide.michelin.com/en/restaurants/2-stars-michelin/page/18\n",
      "https://guide.michelin.com/en/restaurants/2-stars-michelin/page/19\n",
      "https://guide.michelin.com/en/restaurants/2-stars-michelin/page/20\n",
      "https://guide.michelin.com/en/restaurants/2-stars-michelin/page/21\n",
      "https://guide.michelin.com/en/restaurants/2-stars-michelin/page/22\n",
      "https://guide.michelin.com/en/restaurants/2-stars-michelin/page/23\n",
      "https://guide.michelin.com/en/restaurants/2-stars-michelin/page/24\n",
      "https://guide.michelin.com/en/restaurants/3-stars-michelin/\n",
      "https://guide.michelin.com/en/restaurants/3-stars-michelin/page/1\n",
      "https://guide.michelin.com/en/restaurants/3-stars-michelin/page/2\n",
      "https://guide.michelin.com/en/restaurants/3-stars-michelin/page/3\n",
      "https://guide.michelin.com/en/restaurants/3-stars-michelin/page/4\n",
      "https://guide.michelin.com/en/restaurants/3-stars-michelin/page/5\n",
      "https://guide.michelin.com/en/restaurants/3-stars-michelin/page/6\n",
      "https://guide.michelin.com/en/restaurants/3-stars-michelin/page/7\n"
     ]
    }
   ],
   "source": [
    "#create empty lists for each star level\n",
    "michelin_links = {}\n",
    "url_1stars = []\n",
    "url_2stars = []\n",
    "url_3stars = []\n",
    "#establish dynamic urls for each star level\n",
    "for star in range(1, 4):\n",
    "    if star == 1: \n",
    "        url = f\"https://guide.michelin.com/en/restaurants/1-star-michelin/\"\n",
    "        \n",
    "    else: \n",
    "        url = f\"https://guide.michelin.com/en/restaurants/{star}-stars-michelin/\"\n",
    "    #get the last page number because 1 2 and 3 star distinctions have different amount of pages \n",
    "    browser.visit(url)\n",
    "    html = browser.html\n",
    "    soup = BeautifulSoup(html, 'html.parser')\n",
    "    pages = soup.find('ul', class_='pagination')\n",
    "    last_page_number = int(pages.find_all('li')[-2].text)\n",
    "    print(url)\n",
    "    #looping through all the pages until last page number\n",
    "    for page_number in range(1, last_page_number+1):\n",
    "        page_url= url+'page/'+str(page_number)\n",
    "        print(page_url)\n",
    "        browser.visit(page_url)\n",
    "        html = browser.html\n",
    "        soup = BeautifulSoup(html, 'html.parser')\n",
    "        anchors= soup.find_all('a',class_='link')\n",
    "        #find the link append urls into lists \n",
    "        for i, anchor in enumerate(soup.find_all('a',class_='link')):\n",
    "            if (i == 0) and (page_number == 1):\n",
    "                michelin_links[f'Michelin star: {star} links'] = ['https://guide.michelin.com/'+anchor['href']]\n",
    "            else:\n",
    "                michelin_links[f'Michelin star: {star} links'].append('https://guide.michelin.com/'+anchor['href'])"
   ]
  },
  {
   "cell_type": "code",
   "execution_count": 85,
   "id": "4f6c5488",
   "metadata": {},
   "outputs": [
    {
     "data": {
      "text/plain": [
       "['https://guide.michelin.com//en/osaka-region/osaka/restaurant/kashiwaya-1193128',\n",
       " 'https://guide.michelin.com//en/osaka-region/osaka/restaurant/hajime',\n",
       " 'https://guide.michelin.com//en/osaka-region/osaka/restaurant/taian',\n",
       " 'https://guide.michelin.com//en/kyoto-region/kyoto/restaurant/isshisoden-nakamura',\n",
       " 'https://guide.michelin.com//en/kyoto-region/kyoto/restaurant/kikunoi-honten',\n",
       " 'https://guide.michelin.com//en/kyoto-region/kyoto/restaurant/gion-sasaki',\n",
       " 'https://guide.michelin.com//en/kyoto-region/kyoto/restaurant/mizai',\n",
       " 'https://guide.michelin.com//en/kyoto-region/kyoto/restaurant/hyotei',\n",
       " 'https://guide.michelin.com//en/kyoto-region/kyoto/restaurant/maeda',\n",
       " 'https://guide.michelin.com//en/california/yountville/restaurant/the-french-laundry',\n",
       " 'https://guide.michelin.com//en/california/healdsburg/restaurant/singlethread',\n",
       " 'https://guide.michelin.com//en/california/los-gatos/restaurant/manresa',\n",
       " 'https://guide.michelin.com//en/california/san-francisco/restaurant/atelier-crenn',\n",
       " 'https://guide.michelin.com//en/california/san-francisco/restaurant/benu',\n",
       " 'https://guide.michelin.com//en/california/san-francisco/restaurant/quince',\n",
       " 'https://guide.michelin.com//en/stockholm-region/stockholm/restaurant/frantzen',\n",
       " 'https://guide.michelin.com//en/oslo-region/oslo/restaurant/maaemo-1194933',\n",
       " 'https://guide.michelin.com//en/capital-region/copenhagen/restaurant/geranium',\n",
       " 'https://guide.michelin.com//en/capital-region/copenhagen/restaurant/noma',\n",
       " 'https://guide.michelin.com//en/singapore-region/singapore/restaurant/odette',\n",
       " 'https://guide.michelin.com//en/singapore-region/singapore/restaurant/les-amis',\n",
       " 'https://guide.michelin.com//en/singapore-region/singapore/restaurant/zen',\n",
       " 'https://guide.michelin.com//en/taipei-region/taipei/restaurant/le-palais',\n",
       " 'https://guide.michelin.com//en/new-york-state/new-york/restaurant/eleven-madison-park',\n",
       " 'https://guide.michelin.com//en/new-york-state/new-york/restaurant/per-se',\n",
       " 'https://guide.michelin.com//en/new-york-state/new-york/restaurant/masa',\n",
       " 'https://guide.michelin.com//en/new-york-state/new-york/restaurant/le-bernardin',\n",
       " 'https://guide.michelin.com//en/new-york-state/new-york/restaurant/chef-s-table-at-brooklyn-fare',\n",
       " 'https://guide.michelin.com//en/illinois/chicago/restaurant/alinea',\n",
       " 'https://guide.michelin.com//en/district-of-columbia/washington-dc/restaurant/the-inn-at-little-washington',\n",
       " 'https://guide.michelin.com//en/zeeland/kruiningen/restaurant/inter-scaldes',\n",
       " 'https://guide.michelin.com//en/overijssel/zwolle/restaurant/de-librije',\n",
       " 'https://guide.michelin.com//en/saarland/perl-nennig/restaurant/victor-s-fine-dining-by-christian-bau',\n",
       " 'https://guide.michelin.com//en/niedersachsen/wolfsburg/restaurant/aqua79029',\n",
       " 'https://guide.michelin.com//en/bayern/rottach-egern/restaurant/restaurant-uberfahrt-christian-jurgens',\n",
       " 'https://guide.michelin.com//en/hamburg-region/hamburg/restaurant/the-table-kevin-fehling',\n",
       " 'https://guide.michelin.com//en/bayern/mnchen/restaurant/atelier259589',\n",
       " 'https://guide.michelin.com//en/rheinland-pfalz/dreis/restaurant/waldhotel-sonnora',\n",
       " 'https://guide.michelin.com//en/baden-wurttemberg/baiersbronn/restaurant/temporaire-schwarzwaldstube',\n",
       " 'https://guide.michelin.com//en/berlin-region/berlin/restaurant/rutz',\n",
       " 'https://guide.michelin.com//en/baden-wurttemberg/baiersbronn/restaurant/restaurant-bareiss',\n",
       " 'https://guide.michelin.com//en/nordrhein-westfalen/bergisch-gladbach/restaurant/vendome',\n",
       " 'https://guide.michelin.com//en/vaud/crissier/restaurant/restaurant-de-l-hotel-de-ville',\n",
       " 'https://guide.michelin.com//en/basel-stadt/basel/restaurant/cheval-blanc-by-peter-knogl',\n",
       " 'https://guide.michelin.com//en/graubunden/frstenau/restaurant/schloss-schauenstein',\n",
       " 'https://guide.michelin.com//en/macau-region/macau/restaurant/jade-dragon',\n",
       " 'https://guide.michelin.com//en/macau-region/macau/restaurant/robuchon-au-dome',\n",
       " 'https://guide.michelin.com//en/macau-region/macau/restaurant/the-eight',\n",
       " 'https://guide.michelin.com//en/hong-kong-region/hong-kong/restaurant/8%C2%BD-otto-e-mezzo-bombana',\n",
       " 'https://guide.michelin.com//en/hong-kong-region/hong-kong/restaurant/t-ang-court',\n",
       " 'https://guide.michelin.com//en/hong-kong-region/hong-kong/restaurant/sushi-shikon',\n",
       " 'https://guide.michelin.com//en/hong-kong-region/hong-kong/restaurant/caprice',\n",
       " 'https://guide.michelin.com//en/hong-kong-region/hong-kong/restaurant/forum',\n",
       " 'https://guide.michelin.com//en/hong-kong-region/hong-kong/restaurant/lung-king-heen',\n",
       " 'https://guide.michelin.com//en/hong-kong-region/hong-kong/restaurant/l-atelier-de-joel-robuchon',\n",
       " 'https://guide.michelin.com//en/greater-london/london/restaurant/restaurant-gordon-ramsay',\n",
       " 'https://guide.michelin.com//en/windsor-and-maidenhead/bray/restaurant/fat-duck',\n",
       " 'https://guide.michelin.com//en/greater-london/london/restaurant/helene-darroze-at-the-connaught',\n",
       " 'https://guide.michelin.com//en/greater-london/london/restaurant/core-by-clare-smyth',\n",
       " 'https://guide.michelin.com//en/greater-london/london/restaurant/sketch-the-lecture-room-library',\n",
       " 'https://guide.michelin.com//en/windsor-and-maidenhead/bray/restaurant/waterside-inn',\n",
       " 'https://guide.michelin.com//en/greater-london/london/restaurant/alain-ducasse-at-the-dorchester',\n",
       " 'https://guide.michelin.com//en/monaco-region/monte-carlo/restaurant/le-louis-xv-alain-ducasse-a-l-hotel-de-paris',\n",
       " 'https://guide.michelin.com//en/grand-est/reims/restaurant/assiette-champenoise',\n",
       " 'https://guide.michelin.com//en/nouvelle-aquitaine/eugnie-les-bains/restaurant/les-pres-d-eugenie-michel-guerard',\n",
       " 'https://guide.michelin.com//en/auvergne-rhone-alpes/vonnas/restaurant/georges-blanc',\n",
       " 'https://guide.michelin.com//en/provence-alpes-cote-dazur/saint-tropez/restaurant/la-vague-d-or-cheval-blanc-st-tropez',\n",
       " 'https://guide.michelin.com//en/provence-alpes-cote-dazur/menton/restaurant/mirazur',\n",
       " 'https://guide.michelin.com//en/auvergne-rhone-alpes/saint-martin-de-belleville/restaurant/rene-et-maxime-meilleur',\n",
       " 'https://guide.michelin.com//en/ile-de-france/paris/restaurant/alleno-paris-au-pavillon-ledoyen',\n",
       " 'https://guide.michelin.com//en/auvergne-rhone-alpes/courchevel/restaurant/le-1947',\n",
       " 'https://guide.michelin.com//en/provence-alpes-cote-dazur/marseille/restaurant/am-par-alexandre-mazzia',\n",
       " 'https://guide.michelin.com//en/auvergne-rhone-alpes/valence/restaurant/pic',\n",
       " 'https://guide.michelin.com//en/auvergne-rhone-alpes/ouches/restaurant/troisgros-le-bois-sans-feuilles',\n",
       " 'https://guide.michelin.com//en/ile-de-france/paris/restaurant/pierre-gagnaire6112',\n",
       " 'https://guide.michelin.com//en/ile-de-france/paris/restaurant/le-pre-catelan',\n",
       " 'https://guide.michelin.com//en/ile-de-france/paris/restaurant/l-ambroisie',\n",
       " 'https://guide.michelin.com//en/ile-de-france/paris/restaurant/epicure',\n",
       " 'https://guide.michelin.com//en/provence-alpes-cote-dazur/le-castellet/restaurant/christophe-bacquie',\n",
       " 'https://guide.michelin.com//en/bourgogne-franche-comte/chagny/restaurant/maison-lameloise',\n",
       " 'https://guide.michelin.com//en/lombardia/milano/restaurant/enrico-bartolini-al-mudec',\n",
       " 'https://guide.michelin.com//en/provence-alpes-cote-dazur/menton/restaurant/mirazur',\n",
       " 'https://guide.michelin.com//en/bayern/rottach-egern/restaurant/restaurant-uberfahrt-christian-jurgens',\n",
       " 'https://guide.michelin.com//en/lombardia/brusaporto/restaurant/da-vittorio',\n",
       " 'https://guide.michelin.com//en/lombardia/runate/restaurant/dal-pescatore',\n",
       " 'https://guide.michelin.com//en/trentino-alto-adige/san-cassiano/restaurant/st-hubertus',\n",
       " 'https://guide.michelin.com//en/emilia-romagna/modena/restaurant/osteria-francescana',\n",
       " 'https://guide.michelin.com//en/veneto/rubano/restaurant/le-calandre',\n",
       " 'https://guide.michelin.com//en/toscana/firenze/restaurant/enoteca-pinchiorri',\n",
       " 'https://guide.michelin.com//en/vienna/wien/restaurant/amador',\n",
       " 'https://guide.michelin.com//en/marche/senigallia/restaurant/uliassi',\n",
       " 'https://guide.michelin.com//en/lazio/roma/restaurant/la-pergola69016',\n",
       " 'https://guide.michelin.com//en/abruzzo/castel-di-sangro/restaurant/reale',\n",
       " 'https://guide.michelin.com//en/tokyo-region/tokyo/restaurant/kohaku',\n",
       " 'https://guide.michelin.com//en/tokyo-region/tokyo/restaurant/kagurazaka-ishikawa',\n",
       " 'https://guide.michelin.com//en/tokyo-region/tokyo/restaurant/ryugin-1194232',\n",
       " 'https://guide.michelin.com//en/tokyo-region/tokyo/restaurant/l-osier',\n",
       " 'https://guide.michelin.com//en/tokyo-region/tokyo/restaurant/sushi-yoshitake',\n",
       " 'https://guide.michelin.com//en/tokyo-region/tokyo/restaurant/azabu-kadowaki',\n",
       " 'https://guide.michelin.com//en/tokyo-region/tokyo/restaurant/kanda',\n",
       " 'https://guide.michelin.com//en/pais-vasco/lasarte/restaurant/martin-berasategui',\n",
       " 'https://guide.michelin.com//en/pais-vasco/es-donostia-san-sebastian/restaurant/akelare',\n",
       " 'https://guide.michelin.com//en/comunidad-valenciana/dnia/restaurant/quique-dacosta',\n",
       " 'https://guide.michelin.com//en/cantabria/villaverde-de-pontones/restaurant/cenador-de-amos',\n",
       " 'https://guide.michelin.com//en/tokyo-region/tokyo/restaurant/l-osier',\n",
       " 'https://guide.michelin.com//en/tokyo-region/tokyo/restaurant/sazenka',\n",
       " 'https://guide.michelin.com//en/tokyo-region/tokyo/restaurant/kagurazaka-ishikawa',\n",
       " 'https://guide.michelin.com//en/tokyo-region/tokyo/restaurant/kanda',\n",
       " 'https://guide.michelin.com//en/tokyo-region/tokyo/restaurant/l-effervescence',\n",
       " 'https://guide.michelin.com//en/tokyo-region/tokyo/restaurant/quintessence-1193907',\n",
       " 'https://guide.michelin.com//en/tokyo-region/tokyo/restaurant/azabu-kadowaki',\n",
       " 'https://guide.michelin.com//en/tokyo-region/tokyo/restaurant/joel-robuchon-1193981',\n",
       " 'https://guide.michelin.com//en/tokyo-region/tokyo/restaurant/ryugin-1194232',\n",
       " 'https://guide.michelin.com//en/tokyo-region/tokyo/restaurant/sushi-yoshitake',\n",
       " 'https://guide.michelin.com//en/tokyo-region/tokyo/restaurant/kohaku',\n",
       " 'https://guide.michelin.com//en/tokyo-region/tokyo/restaurant/makimura',\n",
       " 'https://guide.michelin.com//en/toscana/firenze/restaurant/enoteca-pinchiorri',\n",
       " 'https://guide.michelin.com//en/lombardia/runate/restaurant/dal-pescatore',\n",
       " 'https://guide.michelin.com//en/veneto/rubano/restaurant/le-calandre',\n",
       " 'https://guide.michelin.com//en/abruzzo/castel-di-sangro/restaurant/reale',\n",
       " 'https://guide.michelin.com//en/piemonte/alba/restaurant/piazza-duomo',\n",
       " 'https://guide.michelin.com//en/emilia-romagna/modena/restaurant/osteria-francescana',\n",
       " 'https://guide.michelin.com//en/lombardia/milano/restaurant/enrico-bartolini-al-mudec',\n",
       " 'https://guide.michelin.com//en/trentino-alto-adige/san-cassiano/restaurant/st-hubertus',\n",
       " 'https://guide.michelin.com//en/lombardia/brusaporto/restaurant/da-vittorio',\n",
       " 'https://guide.michelin.com//en/marche/senigallia/restaurant/uliassi',\n",
       " 'https://guide.michelin.com//en/lazio/roma/restaurant/la-pergola69016',\n",
       " 'https://guide.michelin.com//en/seoul-capital-area/kr-seoul/restaurant/gaon',\n",
       " 'https://guide.michelin.com//en/seoul-capital-area/kr-seoul/restaurant/la-yeon',\n",
       " 'https://guide.michelin.com//en/beijing-municipality/beijing/restaurant/xin-rong-ji-xinyuan-south-road',\n",
       " 'https://guide.michelin.com//en/beijing-municipality/beijing/restaurant/king-s-joy',\n",
       " 'https://guide.michelin.com//en/shanghai-municipality/shanghai/restaurant/ultraviolet-by-paul-pairet',\n",
       " 'https://guide.michelin.com//en/vienna/wien/restaurant/amador']"
      ]
     },
     "execution_count": 85,
     "metadata": {},
     "output_type": "execute_result"
    }
   ],
   "source": [
    "michelin_links['Michelin star: 3 links']"
   ]
  },
  {
   "cell_type": "code",
   "execution_count": 104,
   "id": "7e9d62f8",
   "metadata": {},
   "outputs": [
    {
     "data": {
      "text/plain": [
       "'85\\n                    \\n                    \\n                        -\\n                        \\n                            205\\n                        \\n                    \\n                    EUR\\n                \\n                \\n                    • Creative'"
      ]
     },
     "execution_count": 104,
     "metadata": {},
     "output_type": "execute_result"
    }
   ],
   "source": [
    "#practice scraping the price range\n",
    "senns_url = 'https://guide.michelin.com/at/en/salzburg-region/salzburg/restaurant/senns-restaurant'\n",
    "browser.visit(senns_url)\n",
    "html = browser.html\n",
    "soup = BeautifulSoup(html, 'html.parser')\n",
    "price= soup.find('li', class_=\"restaurant-details__heading-price\").contents[0]\n",
    "price_amount = price.strip()\n",
    "price_amount"
   ]
  },
  {
   "cell_type": "code",
   "execution_count": 134,
   "id": "c031895d",
   "metadata": {},
   "outputs": [
    {
     "ename": "AttributeError",
     "evalue": "'str' object has no attribute 'append'",
     "output_type": "error",
     "traceback": [
      "\u001b[1;31m---------------------------------------------------------------------------\u001b[0m",
      "\u001b[1;31mAttributeError\u001b[0m                            Traceback (most recent call last)",
      "\u001b[1;32m<ipython-input-134-d2ebc58b329e>\u001b[0m in \u001b[0;36m<module>\u001b[1;34m\u001b[0m\n\u001b[0;32m     10\u001b[0m         \u001b[0msoup\u001b[0m \u001b[1;33m=\u001b[0m \u001b[0mBeautifulSoup\u001b[0m\u001b[1;33m(\u001b[0m\u001b[0mhtml\u001b[0m\u001b[1;33m,\u001b[0m \u001b[1;34m'html.parser'\u001b[0m\u001b[1;33m)\u001b[0m\u001b[1;33m\u001b[0m\u001b[1;33m\u001b[0m\u001b[0m\n\u001b[0;32m     11\u001b[0m         \u001b[0mr_name\u001b[0m \u001b[1;33m=\u001b[0m \u001b[1;33m(\u001b[0m\u001b[0msoup\u001b[0m\u001b[1;33m.\u001b[0m\u001b[0mfind_all\u001b[0m\u001b[1;33m(\u001b[0m\u001b[1;34m'h2'\u001b[0m\u001b[1;33m,\u001b[0m \u001b[0mclass_\u001b[0m\u001b[1;33m=\u001b[0m\u001b[1;34m\"restaurant-details__heading--title\"\u001b[0m\u001b[1;33m)\u001b[0m\u001b[1;33m[\u001b[0m\u001b[1;36m0\u001b[0m\u001b[1;33m]\u001b[0m\u001b[1;33m.\u001b[0m\u001b[0mtext\u001b[0m\u001b[1;33m)\u001b[0m\u001b[1;33m\u001b[0m\u001b[1;33m\u001b[0m\u001b[0m\n\u001b[1;32m---> 12\u001b[1;33m         \u001b[0mprice_range\u001b[0m\u001b[1;33m.\u001b[0m\u001b[0mappend\u001b[0m\u001b[1;33m(\u001b[0m\u001b[0mr_name\u001b[0m\u001b[1;33m)\u001b[0m\u001b[1;33m\u001b[0m\u001b[1;33m\u001b[0m\u001b[0m\n\u001b[0m\u001b[0;32m     13\u001b[0m         \u001b[0mprice\u001b[0m\u001b[1;33m=\u001b[0m \u001b[0msoup\u001b[0m\u001b[1;33m.\u001b[0m\u001b[0mfind\u001b[0m\u001b[1;33m(\u001b[0m\u001b[1;34m'li'\u001b[0m\u001b[1;33m,\u001b[0m \u001b[0mclass_\u001b[0m\u001b[1;33m=\u001b[0m\u001b[1;34m\"restaurant-details__heading-price\"\u001b[0m\u001b[1;33m)\u001b[0m\u001b[1;33m\u001b[0m\u001b[1;33m\u001b[0m\u001b[0m\n\u001b[0;32m     14\u001b[0m         \u001b[0mprice\u001b[0m \u001b[1;33m=\u001b[0m \u001b[0mremove\u001b[0m\u001b[1;33m(\u001b[0m\u001b[0mprice_amount\u001b[0m\u001b[1;33m)\u001b[0m\u001b[1;33m\u001b[0m\u001b[1;33m\u001b[0m\u001b[0m\n",
      "\u001b[1;31mAttributeError\u001b[0m: 'str' object has no attribute 'append'"
     ]
    }
   ],
   "source": [
    "price_range = []\n",
    "external_url = []\n",
    "r_name = []\n",
    "def remove(price_amount):\n",
    "    return price_amount.replace(\" \", \"\")\n",
    "try:\n",
    "    for link in michelin_links['Michelin star: 3 links']:\n",
    "        browser.visit(link)\n",
    "        html = browser.html\n",
    "        soup = BeautifulSoup(html, 'html.parser')\n",
    "        r_name = (soup.find_all('h2', class_=\"restaurant-details__heading--title\")[0].text)\n",
    "        price_range.append(r_name)\n",
    "        price= soup.find('li', class_=\"restaurant-details__heading-price\")\n",
    "        price = remove(price_amount)\n",
    "        price_list = price.splitlines()\n",
    "        price_range = (f\"{price_list[0]+price_list[3]+price_list[5]} {price_list[8]}\") \n",
    "        external_url = (soup.find_all('span', class_=\"flex-fill\")[1].text)\n",
    "except IndexError:\n",
    "        external_url = soup.find_all('span', class_=\"flex-fill\")[0].text\n",
    "\n",
    "\n",
    "print(r_name)"
   ]
  },
  {
   "cell_type": "code",
   "execution_count": 128,
   "id": "e290028b",
   "metadata": {},
   "outputs": [
    {
     "data": {
      "text/plain": [
       "{'Price Range': '85-205 EUR',\n",
       " 'Restauarant Website': '+86 10 6501 5501',\n",
       " 'Restaurant Name': 'Xin Rong Ji (Xinyuan South Road)'}"
      ]
     },
     "execution_count": 128,
     "metadata": {},
     "output_type": "execute_result"
    }
   ],
   "source": [
    "scrape_3_star = {'Price Range': price_range,\n",
    "                'Restauarant Website' : external_url,\n",
    "                'Restaurant Name' : r_name}\n",
    "scrape_3_star"
   ]
  },
  {
   "cell_type": "code",
   "execution_count": 115,
   "id": "d41af86f",
   "metadata": {},
   "outputs": [
    {
     "name": "stdout",
     "output_type": "stream",
     "text": [
      "https://jp-kashiwaya.com/senriyama/\n",
      "http://www.hajime-artistes.com/\n",
      "Opening hours\n",
      "http://www.kyoryori-nakamura.com/\n",
      "https://kikunoi.jp/\n",
      "http://gionsasaki.com/\n",
      "https://mizai.jp/\n",
      "http://hyotei.co.jp/\n",
      "Opening hours\n",
      "https://www.thomaskeller.com/tfl\n",
      "https://www.singlethreadfarms.com/\n",
      "https://www.manresarestaurant.com/\n",
      "https://www.ateliercrenn.com/\n",
      "https://www.benusf.com/\n",
      "https://www.quincerestaurant.com/\n",
      "https://www.restaurantfrantzen.com/\n",
      "www.maaemo.no\n",
      "https://www.geranium.dk/\n",
      "http://www.noma.dk/\n",
      "https://www.odetterestaurant.com/\n",
      "https://www.lesamis.com.sg/\n",
      "https://www.restaurantzen.com/\n",
      "https://www.palaisdechinehotel.com/\n",
      "https://www.elevenmadisonpark.com/\n",
      "http://www.perseny.com/\n",
      "https://www.masanyc.com/\n",
      "https://www.le-bernardin.com/\n",
      "http://www.brooklynfare.com/\n",
      "https://www.alinearestaurant.com/\n",
      "https://www.theinnatlittlewashington.com/\n",
      "https://www.interscaldes.eu/\n",
      "https://www.librije.com/\n",
      "https://www.victors-fine-dining.de/\n",
      "https://www.restaurant-aqua.com/\n",
      "www.althoffcollection.com\n",
      "http://www.the-table-hamburg.de/\n",
      "https://www.bayerischerhof.de/\n",
      "www.hotel-sonnora.de\n",
      "https://www.traube-tonbach.de/\n",
      "https://www.rutz-restaurant.de/\n",
      "www.bareiss.com\n",
      "https://www.schlossbensberg.com/\n",
      "https://www.restaurantcrissier.com/\n",
      "https://www.chevalblancbasel.com/\n",
      "https://www.schauenstein.ch/\n",
      "https://www.cityofdreamsmacau.com/\n",
      "https://www.grandlisboahotels.com/\n",
      "https://www.grandlisboahotels.com/\n",
      "https://www.ottoemezzobombana.com/\n",
      "https://www.langhamhotels.com/hongkong\n",
      "https://www.sushi-shikon.com/\n",
      "www.fourseasons.com/hongkong\n",
      "www.forumrestaurant1977.com\n",
      "https://www.fourseasons.com/hongkong\n",
      "https://www.robuchon.hk/\n",
      "https://www.gordonramsayrestaurants.com/\n",
      "https://www.thefatduck.co.uk/\n",
      "https://www.the-connaught.co.uk/restaurants-bars/helene-darroze-at-the-connaught/\n",
      "https://www.corebyclaresmyth.com/\n",
      "https://www.sketch.london/\n",
      "www.waterside-inn.co.uk\n",
      "https://www.alainducasse-dorchester.com/\n",
      "https://www.ducasse-paris.com/\n",
      "https://www.assiettechampenoise.com/\n",
      "https://www.lespresdeugenie.com/\n",
      "https://www.georgesblanc.com/\n",
      "https://www.chevalblanc.com/\n",
      "https://www.mirazur.fr/\n",
      "https://www.la-bouitte.com/\n",
      "https://www.yannick-alleno.com/\n",
      "https://www.chevalblanc.com/courchevel\n",
      "http://www.alexandremazzia.com/\n",
      "https://www.anne-sophie-pic.com/\n",
      "https://www.troisgros.com/\n",
      "https://www.pierregagnaire.com/\n",
      "http://www.precatelanparis.com/\n",
      "https://www.ambroisie-paris.com/\n",
      "https://www.oetkercollection.com/fr/hotels/le-bristol-paris/\n",
      "https://www.hotelducastellet.com/\n",
      "https://www.lameloise.fr/\n",
      "https://www.enricobartolini.net/\n",
      "https://www.mirazur.fr/\n",
      "www.althoffcollection.com\n",
      "https://www.davittorio.com/\n",
      "https://www.dalpescatore.com/\n",
      "https://www.st-hubertus.it/\n",
      "https://www.osteriafrancescana.it/\n",
      "https://www.alajmo.it/\n",
      "http://www.enotecapinchiorri.com/\n",
      "http://www.restaurant-amador.com/\n",
      "https://www.uliassi.it/\n",
      "https://www.romecavalieri.com/lapergola\n",
      "https://www.nikoromito.com/reale/\n",
      "https://kagurazaka-kohaku.jp/\n",
      "http://www.kagurazaka-ishikawa.co.jp/\n",
      "https://www.nihonryori-ryugin.com/\n",
      "https://losier.shiseido.co.jp/\n",
      "http://sushi-yoshitake.com/\n",
      "Opening hours\n",
      "http://www.nihonryori-kanda.com/\n",
      "www.martinberasategui.com\n",
      "www.akelarre.net\n",
      "www.quiquedacosta.es\n",
      "www.cenadordeamos.com\n",
      "https://losier.shiseido.co.jp/\n",
      "https://sazenka.com/\n",
      "http://www.kagurazaka-ishikawa.co.jp/\n",
      "http://www.nihonryori-kanda.com/\n",
      "http://www.leffervescence.jp/\n",
      "https://www.quintessence.jp/\n",
      "Opening hours\n",
      "https://www.robuchon.jp/\n",
      "https://www.nihonryori-ryugin.com/\n",
      "http://sushi-yoshitake.com/\n",
      "https://kagurazaka-kohaku.jp/\n",
      "Opening hours\n",
      "http://www.enotecapinchiorri.com/\n",
      "https://www.dalpescatore.com/\n",
      "https://www.alajmo.it/\n",
      "https://www.nikoromito.com/reale/\n",
      "https://www.piazzaduomoalba.it/\n",
      "https://www.osteriafrancescana.it/\n",
      "https://www.enricobartolini.net/\n",
      "https://www.st-hubertus.it/\n",
      "https://www.davittorio.com/\n",
      "https://www.uliassi.it/\n",
      "https://www.romecavalieri.com/lapergola\n",
      "http://gaonkr.com\n",
      "https://www.shilla.net/seoul\n",
      "+86 10 6501 5501\n"
     ]
    }
   ],
   "source": [
    "#practice for loop to get the link\n",
    "try:\n",
    "    for link in michelin_links['Michelin star: 3 links']:\n",
    "        browser.visit(link)\n",
    "        html = browser.html\n",
    "        soup = BeautifulSoup(html, 'html.parser')\n",
    "        external_url = soup.find_all('span', class_=\"flex-fill\")[1].text\n",
    "        print(external_url)\n",
    "except IndexError: \n",
    "        external_url = soup.find_all('span', class_=\"flex-fill\")[0].text\n",
    "        print(external_url)"
   ]
  },
  {
   "cell_type": "code",
   "execution_count": 3,
   "id": "3b52f9da",
   "metadata": {},
   "outputs": [
    {
     "ename": "NameError",
     "evalue": "name 'michelin_links' is not defined",
     "output_type": "error",
     "traceback": [
      "\u001b[1;31m---------------------------------------------------------------------------\u001b[0m",
      "\u001b[1;31mNameError\u001b[0m                                 Traceback (most recent call last)",
      "\u001b[1;32m<ipython-input-3-19db5713d9bc>\u001b[0m in \u001b[0;36m<module>\u001b[1;34m\u001b[0m\n\u001b[0;32m      1\u001b[0m \u001b[1;31m#test scrape price\u001b[0m\u001b[1;33m\u001b[0m\u001b[1;33m\u001b[0m\u001b[1;33m\u001b[0m\u001b[0m\n\u001b[1;32m----> 2\u001b[1;33m \u001b[0mamador\u001b[0m \u001b[1;33m=\u001b[0m \u001b[0mmichelin_links\u001b[0m\u001b[1;33m[\u001b[0m\u001b[1;34m'Michelin star: 3 links'\u001b[0m\u001b[1;33m]\u001b[0m\u001b[1;33m[\u001b[0m\u001b[1;36m132\u001b[0m\u001b[1;33m]\u001b[0m\u001b[1;33m\u001b[0m\u001b[1;33m\u001b[0m\u001b[0m\n\u001b[0m\u001b[0;32m      3\u001b[0m \u001b[0mamador_url\u001b[0m \u001b[1;33m=\u001b[0m \u001b[0mamador\u001b[0m\u001b[1;33m\u001b[0m\u001b[1;33m\u001b[0m\u001b[0m\n\u001b[0;32m      4\u001b[0m \u001b[0mbrowser\u001b[0m\u001b[1;33m.\u001b[0m\u001b[0mvisit\u001b[0m\u001b[1;33m(\u001b[0m\u001b[0mamador_url\u001b[0m\u001b[1;33m)\u001b[0m\u001b[1;33m\u001b[0m\u001b[1;33m\u001b[0m\u001b[0m\n\u001b[0;32m      5\u001b[0m \u001b[0mhtml\u001b[0m \u001b[1;33m=\u001b[0m \u001b[0mbrowser\u001b[0m\u001b[1;33m.\u001b[0m\u001b[0mhtml\u001b[0m\u001b[1;33m\u001b[0m\u001b[1;33m\u001b[0m\u001b[0m\n",
      "\u001b[1;31mNameError\u001b[0m: name 'michelin_links' is not defined"
     ]
    }
   ],
   "source": [
    "#test scrape price\n",
    "amador = michelin_links['Michelin star: 3 links'][132]\n",
    "amador_url = amador\n",
    "browser.visit(amador_url)\n",
    "html = browser.html\n",
    "soup = BeautifulSoup(html, 'html.parser')\n",
    "price= soup.find('li', class_=\"restaurant-details__heading-price\")\n",
    "print(price)"
   ]
  },
  {
   "cell_type": "code",
   "execution_count": 44,
   "id": "72f6e4fa",
   "metadata": {},
   "outputs": [
    {
     "data": {
      "text/plain": [
       "['85', '', '', '-', '', '205', '', '', 'EUR', '', '', '•Creative']"
      ]
     },
     "execution_count": 44,
     "metadata": {},
     "output_type": "execute_result"
    }
   ],
   "source": [
    "def remove(price_amount):\n",
    "    return price_amount.replace(\" \", \"\")\n",
    "price = remove(price_amount)\n",
    "price = price.splitlines()\n",
    "price"
   ]
  },
  {
   "cell_type": "code",
   "execution_count": 58,
   "id": "ad9ff47b",
   "metadata": {},
   "outputs": [
    {
     "name": "stdout",
     "output_type": "stream",
     "text": [
      "•Creative\n"
     ]
    }
   ],
   "source": [
    "Cuisine = price[11]\n",
    "print(Cuisine)"
   ]
  },
  {
   "cell_type": "code",
   "execution_count": 60,
   "id": "86341313",
   "metadata": {},
   "outputs": [
    {
     "name": "stdout",
     "output_type": "stream",
     "text": [
      "85-205 EUR\n"
     ]
    }
   ],
   "source": [
    "price_range = f\"{price[0]+price[3]+price[5]} {price[8]}\" \n",
    "print(price_range)"
   ]
  },
  {
   "cell_type": "code",
   "execution_count": 76,
   "id": "26da6158",
   "metadata": {},
   "outputs": [
    {
     "data": {
      "text/plain": [
       "'https://www.senns.restaurant/'"
      ]
     },
     "execution_count": 76,
     "metadata": {},
     "output_type": "execute_result"
    }
   ],
   "source": [
    "senns_url = 'https://guide.michelin.com/at/en/salzburg-region/salzburg/restaurant/senns-restaurant'\n",
    "browser.visit(senns_url)\n",
    "html = browser.html\n",
    "soup = BeautifulSoup(html, 'html.parser')\n",
    "external_url = soup.find_all('span', class_=\"flex-fill\")[1].text\n",
    "external_url"
   ]
  },
  {
   "cell_type": "code",
   "execution_count": 98,
   "id": "16bbc169",
   "metadata": {},
   "outputs": [
    {
     "name": "stdout",
     "output_type": "stream",
     "text": [
      "SENNS.Restaurant\n"
     ]
    }
   ],
   "source": [
    "senns_url = 'https://guide.michelin.com/at/en/salzburg-region/salzburg/restaurant/senns-restaurant'\n",
    "browser.visit(senns_url)\n",
    "html = browser.html\n",
    "soup = BeautifulSoup(html, 'html.parser')\n",
    "restaurant_name = soup.find_all('h2', class_=\"restaurant-details__heading--title\")[0].text\n",
    "print(restaurant_name)"
   ]
  },
  {
   "cell_type": "code",
   "execution_count": null,
   "id": "cff4f3c0",
   "metadata": {},
   "outputs": [],
   "source": [
    "url = "
   ]
  }
 ],
 "metadata": {
  "kernelspec": {
   "display_name": "PythonData",
   "language": "python",
   "name": "pythondata"
  },
  "language_info": {
   "codemirror_mode": {
    "name": "ipython",
    "version": 3
   },
   "file_extension": ".py",
   "mimetype": "text/x-python",
   "name": "python",
   "nbconvert_exporter": "python",
   "pygments_lexer": "ipython3",
   "version": "3.8.8"
  }
 },
 "nbformat": 4,
 "nbformat_minor": 5
}
